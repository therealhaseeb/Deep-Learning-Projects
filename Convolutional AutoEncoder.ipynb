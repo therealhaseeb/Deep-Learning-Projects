{
  "nbformat": 4,
  "nbformat_minor": 0,
  "metadata": {
    "colab": {
      "name": "Untitled16.ipynb",
      "version": "0.3.2",
      "provenance": [],
      "include_colab_link": true
    },
    "kernelspec": {
      "name": "python3",
      "display_name": "Python 3"
    },
    "accelerator": "GPU"
  },
  "cells": [
    {
      "cell_type": "markdown",
      "metadata": {
        "id": "view-in-github",
        "colab_type": "text"
      },
      "source": [
        "<a href=\"https://colab.research.google.com/github/haseeb1zahid/Deep-Learning-Projects/blob/master/Convolutional%20AutoEncoder.ipynb\" target=\"_parent\"><img src=\"https://colab.research.google.com/assets/colab-badge.svg\" alt=\"Open In Colab\"/></a>"
      ]
    },
    {
      "metadata": {
        "id": "AuOkBUP06paA",
        "colab_type": "code",
        "colab": {
          "base_uri": "https://localhost:8080/",
          "height": 34
        },
        "outputId": "d638924a-9000-47ba-d017-3f42fd385500"
      },
      "cell_type": "code",
      "source": [
        "from keras.layers import Input, Dense, Conv2D, MaxPooling2D, UpSampling2D\n",
        "from keras.models import Model\n",
        "from keras import backend as K\n",
        "\n",
        "input_img = Input(shape=(28, 28, 1))  # adapt this if using `channels_first` image data format\n",
        "\n",
        "x = Conv2D(16, (3, 3), activation='relu', padding='same')(input_img)\n",
        "x = MaxPooling2D((2, 2), padding='same')(x)\n",
        "x = Conv2D(8, (3, 3), activation='relu', padding='same')(x)\n",
        "x = MaxPooling2D((2, 2), padding='same')(x)\n",
        "x = Conv2D(8, (3, 3), activation='relu', padding='same')(x)\n",
        "encoded = MaxPooling2D((2, 2), padding='same')(x)\n",
        "\n",
        "# at this point the representation is (4, 4, 8) i.e. 128-dimensional\n",
        "\n",
        "x = Conv2D(8, (3, 3), activation='relu', padding='same')(encoded)\n",
        "x = UpSampling2D((2, 2))(x)\n",
        "x = Conv2D(8, (3, 3), activation='relu', padding='same')(x)\n",
        "x = UpSampling2D((2, 2))(x)\n",
        "x = Conv2D(16, (3, 3), activation='relu')(x)\n",
        "x = UpSampling2D((2, 2))(x)\n",
        "decoded = Conv2D(1, (3, 3), activation='sigmoid', padding='same')(x)\n",
        "\n",
        "autoencoder = Model(input_img, decoded)\n",
        "autoencoder.compile(optimizer='adadelta', loss='binary_crossentropy')"
      ],
      "execution_count": 1,
      "outputs": [
        {
          "output_type": "stream",
          "text": [
            "Using TensorFlow backend.\n"
          ],
          "name": "stderr"
        }
      ]
    },
    {
      "metadata": {
        "id": "cCnPPizj6qoG",
        "colab_type": "code",
        "colab": {
          "base_uri": "https://localhost:8080/",
          "height": 51
        },
        "outputId": "a75b4881-55d9-45c4-8af9-ce28e83bda23"
      },
      "cell_type": "code",
      "source": [
        "from keras.datasets import mnist\n",
        "import numpy as np\n",
        "\n",
        "(x_train, _), (x_test, _) = mnist.load_data()\n",
        "\n",
        "x_train = x_train.astype('float32') / 255.\n",
        "x_test = x_test.astype('float32') / 255.\n",
        "x_train = np.reshape(x_train, (len(x_train), 28, 28, 1))  # adapt this if using `channels_first` image data format\n",
        "x_test = np.reshape(x_test, (len(x_test), 28, 28, 1))  # adapt this if using `channels_first` image data format"
      ],
      "execution_count": 2,
      "outputs": [
        {
          "output_type": "stream",
          "text": [
            "Downloading data from https://s3.amazonaws.com/img-datasets/mnist.npz\n",
            "11493376/11490434 [==============================] - 1s 0us/step\n"
          ],
          "name": "stdout"
        }
      ]
    },
    {
      "metadata": {
        "id": "AvPqUrcb6xOo",
        "colab_type": "code",
        "colab": {
          "base_uri": "https://localhost:8080/",
          "height": 1751
        },
        "outputId": "7cf5ab79-b083-49a8-eec4-422d322d146b"
      },
      "cell_type": "code",
      "source": [
        "from keras.callbacks import TensorBoard\n",
        "\n",
        "autoencoder.fit(x_train, x_train,\n",
        "                epochs=50,\n",
        "                batch_size=128,\n",
        "                shuffle=True,\n",
        "                validation_data=(x_test, x_test))"
      ],
      "execution_count": 5,
      "outputs": [
        {
          "output_type": "stream",
          "text": [
            "Train on 60000 samples, validate on 10000 samples\n",
            "Epoch 1/50\n",
            "60000/60000 [==============================] - 7s 121us/step - loss: 0.1211 - val_loss: 0.1158\n",
            "Epoch 2/50\n",
            "60000/60000 [==============================] - 7s 117us/step - loss: 0.1187 - val_loss: 0.1149\n",
            "Epoch 3/50\n",
            "60000/60000 [==============================] - 7s 113us/step - loss: 0.1163 - val_loss: 0.1148\n",
            "Epoch 4/50\n",
            "60000/60000 [==============================] - 7s 112us/step - loss: 0.1148 - val_loss: 0.1159\n",
            "Epoch 5/50\n",
            "60000/60000 [==============================] - 7s 112us/step - loss: 0.1131 - val_loss: 0.1096\n",
            "Epoch 6/50\n",
            "60000/60000 [==============================] - 7s 111us/step - loss: 0.1120 - val_loss: 0.1095\n",
            "Epoch 7/50\n",
            "60000/60000 [==============================] - 7s 110us/step - loss: 0.1107 - val_loss: 0.1118\n",
            "Epoch 8/50\n",
            "60000/60000 [==============================] - 7s 112us/step - loss: 0.1095 - val_loss: 0.1109\n",
            "Epoch 9/50\n",
            "60000/60000 [==============================] - 7s 110us/step - loss: 0.1087 - val_loss: 0.1077\n",
            "Epoch 10/50\n",
            "60000/60000 [==============================] - 7s 111us/step - loss: 0.1076 - val_loss: 0.1048\n",
            "Epoch 11/50\n",
            "60000/60000 [==============================] - 7s 111us/step - loss: 0.1067 - val_loss: 0.1062\n",
            "Epoch 12/50\n",
            "60000/60000 [==============================] - 7s 111us/step - loss: 0.1064 - val_loss: 0.1069\n",
            "Epoch 13/50\n",
            "60000/60000 [==============================] - 7s 110us/step - loss: 0.1059 - val_loss: 0.1070\n",
            "Epoch 14/50\n",
            "60000/60000 [==============================] - 7s 110us/step - loss: 0.1054 - val_loss: 0.1043\n",
            "Epoch 15/50\n",
            "60000/60000 [==============================] - 7s 110us/step - loss: 0.1052 - val_loss: 0.1039\n",
            "Epoch 16/50\n",
            "60000/60000 [==============================] - 7s 110us/step - loss: 0.1046 - val_loss: 0.1040\n",
            "Epoch 17/50\n",
            "60000/60000 [==============================] - 7s 110us/step - loss: 0.1041 - val_loss: 0.1055\n",
            "Epoch 18/50\n",
            "60000/60000 [==============================] - 7s 112us/step - loss: 0.1036 - val_loss: 0.1017\n",
            "Epoch 19/50\n",
            "60000/60000 [==============================] - 7s 110us/step - loss: 0.1033 - val_loss: 0.1080\n",
            "Epoch 20/50\n",
            "60000/60000 [==============================] - 8s 135us/step - loss: 0.1029 - val_loss: 0.1011\n",
            "Epoch 21/50\n",
            "60000/60000 [==============================] - 9s 143us/step - loss: 0.1026 - val_loss: 0.1009\n",
            "Epoch 22/50\n",
            "60000/60000 [==============================] - 7s 121us/step - loss: 0.1024 - val_loss: 0.1012\n",
            "Epoch 23/50\n",
            "60000/60000 [==============================] - 7s 119us/step - loss: 0.1022 - val_loss: 0.1005\n",
            "Epoch 24/50\n",
            "60000/60000 [==============================] - 7s 113us/step - loss: 0.1019 - val_loss: 0.1001\n",
            "Epoch 25/50\n",
            "60000/60000 [==============================] - 7s 114us/step - loss: 0.1015 - val_loss: 0.0998\n",
            "Epoch 26/50\n",
            "60000/60000 [==============================] - 7s 111us/step - loss: 0.1014 - val_loss: 0.1032\n",
            "Epoch 27/50\n",
            "60000/60000 [==============================] - 7s 111us/step - loss: 0.1011 - val_loss: 0.1006\n",
            "Epoch 28/50\n",
            "60000/60000 [==============================] - 7s 109us/step - loss: 0.1010 - val_loss: 0.0982\n",
            "Epoch 29/50\n",
            "60000/60000 [==============================] - 7s 110us/step - loss: 0.1008 - val_loss: 0.0999\n",
            "Epoch 30/50\n",
            "60000/60000 [==============================] - 7s 110us/step - loss: 0.1004 - val_loss: 0.0985\n",
            "Epoch 31/50\n",
            "60000/60000 [==============================] - 7s 110us/step - loss: 0.1001 - val_loss: 0.0979\n",
            "Epoch 32/50\n",
            "60000/60000 [==============================] - 7s 109us/step - loss: 0.1000 - val_loss: 0.0978\n",
            "Epoch 33/50\n",
            "60000/60000 [==============================] - 7s 109us/step - loss: 0.0999 - val_loss: 0.0991\n",
            "Epoch 34/50\n",
            "60000/60000 [==============================] - 7s 109us/step - loss: 0.0997 - val_loss: 0.1015\n",
            "Epoch 35/50\n",
            "60000/60000 [==============================] - 7s 109us/step - loss: 0.0995 - val_loss: 0.0978\n",
            "Epoch 36/50\n",
            "60000/60000 [==============================] - 7s 111us/step - loss: 0.0994 - val_loss: 0.0972\n",
            "Epoch 37/50\n",
            "60000/60000 [==============================] - 7s 113us/step - loss: 0.0992 - val_loss: 0.0993\n",
            "Epoch 38/50\n",
            "60000/60000 [==============================] - 7s 110us/step - loss: 0.0990 - val_loss: 0.0968\n",
            "Epoch 39/50\n",
            "60000/60000 [==============================] - 7s 110us/step - loss: 0.0987 - val_loss: 0.0993\n",
            "Epoch 40/50\n",
            "60000/60000 [==============================] - 7s 109us/step - loss: 0.0987 - val_loss: 0.0973\n",
            "Epoch 41/50\n",
            "60000/60000 [==============================] - 7s 110us/step - loss: 0.0986 - val_loss: 0.0985\n",
            "Epoch 42/50\n",
            "60000/60000 [==============================] - 7s 110us/step - loss: 0.0984 - val_loss: 0.0968\n",
            "Epoch 43/50\n",
            "60000/60000 [==============================] - 7s 109us/step - loss: 0.0980 - val_loss: 0.0964\n",
            "Epoch 44/50\n",
            "60000/60000 [==============================] - 7s 109us/step - loss: 0.0980 - val_loss: 0.0974\n",
            "Epoch 45/50\n",
            "60000/60000 [==============================] - 7s 109us/step - loss: 0.0979 - val_loss: 0.0983\n",
            "Epoch 46/50\n",
            "60000/60000 [==============================] - 7s 116us/step - loss: 0.0980 - val_loss: 0.0973\n",
            "Epoch 47/50\n",
            "60000/60000 [==============================] - 7s 113us/step - loss: 0.0978 - val_loss: 0.0969\n",
            "Epoch 48/50\n",
            "60000/60000 [==============================] - 7s 111us/step - loss: 0.0977 - val_loss: 0.0958\n",
            "Epoch 49/50\n",
            "60000/60000 [==============================] - 7s 109us/step - loss: 0.0977 - val_loss: 0.0970\n",
            "Epoch 50/50\n",
            "60000/60000 [==============================] - 7s 110us/step - loss: 0.0974 - val_loss: 0.0949\n"
          ],
          "name": "stdout"
        },
        {
          "output_type": "execute_result",
          "data": {
            "text/plain": [
              "<keras.callbacks.History at 0x7f3bf7f6eb70>"
            ]
          },
          "metadata": {
            "tags": []
          },
          "execution_count": 5
        }
      ]
    },
    {
      "metadata": {
        "id": "1n-Bkaoz67_1",
        "colab_type": "code",
        "colab": {
          "base_uri": "https://localhost:8080/",
          "height": 244
        },
        "outputId": "2e03aca3-be0b-4b68-9406-6b8467f1567b"
      },
      "cell_type": "code",
      "source": [
        "decoded_imgs = autoencoder.predict(x_test)\n",
        "import matplotlib.pyplot as plt\n",
        "\n",
        "n = 10\n",
        "plt.figure(figsize=(20, 4))\n",
        "for i in range(1, n):\n",
        "    # display original\n",
        "    ax = plt.subplot(2, n, i)\n",
        "    plt.imshow(x_test[i].reshape(28, 28))\n",
        "    plt.gray()\n",
        "    ax.get_xaxis().set_visible(False)\n",
        "    ax.get_yaxis().set_visible(False)\n",
        "\n",
        "    # display reconstruction\n",
        "    ax = plt.subplot(2, n, i + n)\n",
        "    plt.imshow(decoded_imgs[i].reshape(28, 28))\n",
        "    plt.gray()\n",
        "    ax.get_xaxis().set_visible(False)\n",
        "    ax.get_yaxis().set_visible(False)\n",
        "plt.show()"
      ],
      "execution_count": 6,
      "outputs": [
        {
          "output_type": "display_data",
          "data": {
            "image/png": "[encoded data removed]",
            "text/plain": [
              "<matplotlib.figure.Figure at 0x7f3bf7f7b128>"
            ]
          },
          "metadata": {
            "tags": []
          }
        }
      ]
    }
  ]
}