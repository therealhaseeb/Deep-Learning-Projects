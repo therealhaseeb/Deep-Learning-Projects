{
  "nbformat": 4,
  "nbformat_minor": 0,
  "metadata": {
    "colab": {
      "name": "Newswires - Multiclass Classification.ipynb",
      "version": "0.3.2",
      "provenance": []
    },
    "kernelspec": {
      "display_name": "Python 3",
      "language": "python",
      "name": "python3"
    },
    "accelerator": "GPU"
  },
  "cells": [
    {
      "metadata": {
        "id": "ThUm9fnwkLTX",
        "colab_type": "text"
      },
      "cell_type": "markdown",
      "source": [
        "# 1. Loading The Reuters Dataset"
      ]
    },
    {
      "metadata": {
        "id": "SNNg39mSkLTe",
        "colab_type": "code",
        "colab": {
          "base_uri": "https://localhost:8080/",
          "height": 34
        },
        "outputId": "70bc4278-1558-43ca-bcd0-4a13599dad57"
      },
      "cell_type": "code",
      "source": [
        "from keras.datasets import reuters"
      ],
      "execution_count": 1,
      "outputs": [
        {
          "output_type": "stream",
          "text": [
            "Using TensorFlow backend.\n"
          ],
          "name": "stderr"
        }
      ]
    },
    {
      "metadata": {
        "id": "XMGvb1H4kLT6",
        "colab_type": "code",
        "colab": {
          "base_uri": "https://localhost:8080/",
          "height": 52
        },
        "outputId": "5d606155-5d33-4da3-f094-175209c202e4"
      },
      "cell_type": "code",
      "source": [
        "(train_data, train_labels), (test_data, test_labels) = reuters.load_data(\n",
        "num_words=10000)"
      ],
      "execution_count": 2,
      "outputs": [
        {
          "output_type": "stream",
          "text": [
            "Downloading data from https://s3.amazonaws.com/text-datasets/reuters.npz\n",
            "2113536/2110848 [==============================] - 1s 1us/step\n"
          ],
          "name": "stdout"
        }
      ]
    },
    {
      "metadata": {
        "id": "GfA845GLkLUK",
        "colab_type": "code",
        "colab": {
          "base_uri": "https://localhost:8080/",
          "height": 34
        },
        "outputId": "49d6a043-2380-4dfa-ea98-7e1fa673ac67"
      },
      "cell_type": "code",
      "source": [
        "len(train_data)"
      ],
      "execution_count": 3,
      "outputs": [
        {
          "output_type": "execute_result",
          "data": {
            "text/plain": [
              "8982"
            ]
          },
          "metadata": {
            "tags": []
          },
          "execution_count": 3
        }
      ]
    },
    {
      "metadata": {
        "id": "m6jApQ5kkLUi",
        "colab_type": "code",
        "colab": {
          "base_uri": "https://localhost:8080/",
          "height": 34
        },
        "outputId": "f66d4fa8-f954-4473-d1ec-761746a0df7f"
      },
      "cell_type": "code",
      "source": [
        "len(test_data)"
      ],
      "execution_count": 4,
      "outputs": [
        {
          "output_type": "execute_result",
          "data": {
            "text/plain": [
              "2246"
            ]
          },
          "metadata": {
            "tags": []
          },
          "execution_count": 4
        }
      ]
    },
    {
      "metadata": {
        "id": "MWSLT9_HkLUy",
        "colab_type": "text"
      },
      "cell_type": "markdown",
      "source": [
        "# 2. Encoding Data"
      ]
    },
    {
      "metadata": {
        "id": "zRLwIEBikLU1",
        "colab_type": "code",
        "colab": {}
      },
      "cell_type": "code",
      "source": [
        "import numpy as np\n",
        "\n",
        "def vectorize_sequences(sequences, dimension=10000):\n",
        "    results = np.zeros((len(sequences), dimension))\n",
        "    for i, sequence in enumerate(sequences):\n",
        "        results[i, sequence] = 1.\n",
        "    return results"
      ],
      "execution_count": 0,
      "outputs": []
    },
    {
      "metadata": {
        "id": "04_5Wa8-kLVG",
        "colab_type": "code",
        "colab": {}
      },
      "cell_type": "code",
      "source": [
        "x_train = vectorize_sequences(train_data)\n",
        "x_test = vectorize_sequences(test_data)"
      ],
      "execution_count": 0,
      "outputs": []
    },
    {
      "metadata": {
        "id": "FBzMz9F9kLVX",
        "colab_type": "code",
        "colab": {}
      },
      "cell_type": "code",
      "source": [
        "from keras.utils.np_utils import to_categorical\n",
        "\n",
        "one_hot_train_labels = to_categorical(train_labels)\n",
        "one_hot_test_labels = to_categorical(test_labels)"
      ],
      "execution_count": 0,
      "outputs": []
    },
    {
      "metadata": {
        "id": "phubp-0BkLVl",
        "colab_type": "text"
      },
      "cell_type": "markdown",
      "source": [
        "# 3. The Model Definition"
      ]
    },
    {
      "metadata": {
        "id": "MCGxwh_TkLVu",
        "colab_type": "code",
        "colab": {}
      },
      "cell_type": "code",
      "source": [
        "from keras import models\n",
        "from keras import layers\n",
        "\n",
        "model = models.Sequential()\n",
        "model.add(layers.Dense(64, activation='relu', input_shape=(10000,)))\n",
        "model.add(layers.Dense(64, activation='relu'))\n",
        "model.add(layers.Dense(46, activation='softmax'))"
      ],
      "execution_count": 0,
      "outputs": []
    },
    {
      "metadata": {
        "id": "pbN-zG9ykLWE",
        "colab_type": "text"
      },
      "cell_type": "markdown",
      "source": [
        "# 4. Compiling The Model"
      ]
    },
    {
      "metadata": {
        "id": "6SAP9eA3kLWI",
        "colab_type": "code",
        "colab": {}
      },
      "cell_type": "code",
      "source": [
        "model.compile(optimizer='rmsprop',\n",
        "              loss='categorical_crossentropy',\n",
        "              metrics=['accuracy'])"
      ],
      "execution_count": 0,
      "outputs": []
    },
    {
      "metadata": {
        "id": "7lVv36UkkLWT",
        "colab_type": "text"
      },
      "cell_type": "markdown",
      "source": [
        "# 5. Training The Model"
      ]
    },
    {
      "metadata": {
        "id": "PRJiuE2hkLWW",
        "colab_type": "code",
        "colab": {
          "base_uri": "https://localhost:8080/",
          "height": 399
        },
        "outputId": "8c66d34e-6780-462d-f50b-b6514def6d06"
      },
      "cell_type": "code",
      "source": [
        "model.fit(x_train,\n",
        "          one_hot_train_labels,\n",
        "          epochs=10,\n",
        "          batch_size=218,\n",
        "          validation_split=0.3,\n",
        "          verbose=2)"
      ],
      "execution_count": 16,
      "outputs": [
        {
          "output_type": "stream",
          "text": [
            "Train on 6287 samples, validate on 2695 samples\n",
            "Epoch 1/10\n",
            " - 1s - loss: 0.0598 - acc: 0.9679 - val_loss: 0.5522 - val_acc: 0.9325\n",
            "Epoch 2/10\n",
            " - 1s - loss: 0.0603 - acc: 0.9677 - val_loss: 0.5612 - val_acc: 0.9340\n",
            "Epoch 3/10\n",
            " - 1s - loss: 0.0602 - acc: 0.9691 - val_loss: 0.5547 - val_acc: 0.9354\n",
            "Epoch 4/10\n",
            " - 1s - loss: 0.0595 - acc: 0.9693 - val_loss: 0.5590 - val_acc: 0.9347\n",
            "Epoch 5/10\n",
            " - 1s - loss: 0.0596 - acc: 0.9699 - val_loss: 0.5648 - val_acc: 0.9354\n",
            "Epoch 6/10\n",
            " - 1s - loss: 0.0598 - acc: 0.9698 - val_loss: 0.5901 - val_acc: 0.9321\n",
            "Epoch 7/10\n",
            " - 1s - loss: 0.0595 - acc: 0.9706 - val_loss: 0.5695 - val_acc: 0.9340\n",
            "Epoch 8/10\n",
            " - 1s - loss: 0.0594 - acc: 0.9693 - val_loss: 0.6070 - val_acc: 0.9310\n",
            "Epoch 9/10\n",
            " - 1s - loss: 0.0594 - acc: 0.9691 - val_loss: 0.5998 - val_acc: 0.9336\n",
            "Epoch 10/10\n",
            " - 1s - loss: 0.0602 - acc: 0.9688 - val_loss: 0.5852 - val_acc: 0.9332\n"
          ],
          "name": "stdout"
        },
        {
          "output_type": "execute_result",
          "data": {
            "text/plain": [
              "<keras.callbacks.History at 0x7f416f99bd68>"
            ]
          },
          "metadata": {
            "tags": []
          },
          "execution_count": 16
        }
      ]
    },
    {
      "metadata": {
        "id": "6x-6N-qukLWm",
        "colab_type": "code",
        "colab": {
          "base_uri": "https://localhost:8080/",
          "height": 52
        },
        "outputId": "616ee606-0164-47aa-9512-f183684fafb1"
      },
      "cell_type": "code",
      "source": [
        "model.evaluate(x_test, one_hot_test_labels)"
      ],
      "execution_count": 18,
      "outputs": [
        {
          "output_type": "stream",
          "text": [
            "2246/2246 [==============================] - 0s 133us/step\n"
          ],
          "name": "stdout"
        },
        {
          "output_type": "execute_result",
          "data": {
            "text/plain": [
              "[2.45532884920482, 0.7635796972926132]"
            ]
          },
          "metadata": {
            "tags": []
          },
          "execution_count": 18
        }
      ]
    },
    {
      "metadata": {
        "id": "qQVoK7XSkLW1",
        "colab_type": "code",
        "colab": {
          "base_uri": "https://localhost:8080/",
          "height": 243
        },
        "outputId": "f49bb76a-9e09-4f67-8d62-5bfb8c155859"
      },
      "cell_type": "code",
      "source": [
        "model.predict(x_test)"
      ],
      "execution_count": 19,
      "outputs": [
        {
          "output_type": "execute_result",
          "data": {
            "text/plain": [
              "array([[1.3679918e-24, 4.5602517e-22, 2.1578304e-27, ..., 1.5671218e-20,\n",
              "        4.2719355e-28, 1.4565183e-26],\n",
              "       [1.7185837e-23, 2.0315952e-07, 2.4445630e-26, ..., 1.1139247e-27,\n",
              "        1.5935053e-36, 1.1574384e-17],\n",
              "       [2.1369615e-21, 1.0000000e+00, 1.0928230e-15, ..., 7.8022889e-29,\n",
              "        8.0431541e-27, 6.7946854e-24],\n",
              "       ...,\n",
              "       [0.0000000e+00, 1.1373989e-34, 0.0000000e+00, ..., 0.0000000e+00,\n",
              "        0.0000000e+00, 0.0000000e+00],\n",
              "       [4.0454361e-06, 1.6819748e-06, 6.9518662e-12, ..., 1.1250504e-12,\n",
              "        2.1741087e-15, 6.1822888e-13],\n",
              "       [3.8853965e-15, 9.9868637e-01, 1.6138976e-05, ..., 1.1205959e-19,\n",
              "        1.0468739e-15, 4.9431748e-17]], dtype=float32)"
            ]
          },
          "metadata": {
            "tags": []
          },
          "execution_count": 19
        }
      ]
    },
    {
      "metadata": {
        "id": "FqCrWiTxkLW-",
        "colab_type": "code",
        "colab": {}
      },
      "cell_type": "code",
      "source": [
        ""
      ],
      "execution_count": 0,
      "outputs": []
    },
    {
      "metadata": {
        "id": "49slbWbQkLXK",
        "colab_type": "code",
        "colab": {}
      },
      "cell_type": "code",
      "source": [
        ""
      ],
      "execution_count": 0,
      "outputs": []
    },
    {
      "metadata": {
        "id": "5RRuaHEkkLXX",
        "colab_type": "code",
        "colab": {}
      },
      "cell_type": "code",
      "source": [
        ""
      ],
      "execution_count": 0,
      "outputs": []
    }
  ]
}