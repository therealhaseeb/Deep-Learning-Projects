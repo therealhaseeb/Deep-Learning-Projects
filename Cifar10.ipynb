{
  "nbformat": 4,
  "nbformat_minor": 0,
  "metadata": {
    "colab": {
      "name": "Cifar10.ipynb",
      "version": "0.3.2",
      "provenance": [],
      "include_colab_link": true
    },
    "kernelspec": {
      "name": "python3",
      "display_name": "Python 3"
    },
    "accelerator": "GPU"
  },
  "cells": [
    {
      "cell_type": "markdown",
      "metadata": {
        "id": "view-in-github",
        "colab_type": "text"
      },
      "source": [
        "<a href=\"https://colab.research.google.com/github/haseeb1zahid/Deep-Learning-Projects/blob/master/Cifar10.ipynb\" target=\"_parent\"><img src=\"https://colab.research.google.com/assets/colab-badge.svg\" alt=\"Open In Colab\"/></a>"
      ]
    },
    {
      "metadata": {
        "id": "ShnZBvf7HFBm",
        "colab_type": "code",
        "colab": {
          "base_uri": "https://localhost:8080/",
          "height": 34
        },
        "outputId": "d8292945-9728-4553-f787-66c1aab61fd7"
      },
      "cell_type": "code",
      "source": [
        "from __future__ import print_function\n",
        "import keras\n",
        "from keras.datasets import cifar10\n",
        "from keras.preprocessing.image import ImageDataGenerator\n",
        "from keras.models import Sequential\n",
        "from keras.layers import Dense, Dropout, Activation, Flatten\n",
        "from keras.layers import Conv2D, MaxPooling2D\n",
        "import os"
      ],
      "execution_count": 1,
      "outputs": [
        {
          "output_type": "stream",
          "text": [
            "Using TensorFlow backend.\n"
          ],
          "name": "stderr"
        }
      ]
    },
    {
      "metadata": {
        "id": "t7OxOGG6HwuR",
        "colab_type": "code",
        "colab": {}
      },
      "cell_type": "code",
      "source": [
        "batch_size = 32\n",
        "num_classes = 10\n",
        "epochs = 100\n",
        "data_augmentation = True\n",
        "num_predictions = 20\n",
        "save_dir = os.path.join(os.getcwd(), 'saved_models')\n",
        "model_name = 'keras_cifar10_trained_model.h5'"
      ],
      "execution_count": 0,
      "outputs": []
    },
    {
      "metadata": {
        "id": "WcyJGRTPIKA9",
        "colab_type": "code",
        "colab": {
          "base_uri": "https://localhost:8080/",
          "height": 102
        },
        "outputId": "41287bfb-30ba-493f-e930-7870c643747c"
      },
      "cell_type": "code",
      "source": [
        "# The data, split between train and test sets:\n",
        "(x_train, y_train), (x_test, y_test) = cifar10.load_data()\n",
        "print('x_train shape:', x_train.shape)\n",
        "print(x_train.shape[0], 'train samples')\n",
        "print(x_test.shape[0], 'test samples')"
      ],
      "execution_count": 3,
      "outputs": [
        {
          "output_type": "stream",
          "text": [
            "Downloading data from https://www.cs.toronto.edu/~kriz/cifar-10-python.tar.gz\n",
            "170500096/170498071 [==============================] - 56s 0us/step\n",
            "x_train shape: (50000, 32, 32, 3)\n",
            "50000 train samples\n",
            "10000 test samples\n"
          ],
          "name": "stdout"
        }
      ]
    },
    {
      "metadata": {
        "id": "sfalfpe9IOlS",
        "colab_type": "code",
        "colab": {}
      },
      "cell_type": "code",
      "source": [
        "# Convert class vectors to binary class matrices.\n",
        "y_train = keras.utils.to_categorical(y_train, num_classes)\n",
        "y_test = keras.utils.to_categorical(y_test, num_classes)"
      ],
      "execution_count": 0,
      "outputs": []
    },
    {
      "metadata": {
        "id": "y9pUd5epIaYC",
        "colab_type": "code",
        "colab": {}
      },
      "cell_type": "code",
      "source": [
        "# Make baseline model\n",
        "model = Sequential()\n",
        "model.add(Conv2D(32, (3, 3), padding='same',\n",
        "                 input_shape=x_train.shape[1:]))\n",
        "model.add(Activation('relu'))\n",
        "model.add(Conv2D(32, (3, 3)))\n",
        "model.add(Activation('relu'))\n",
        "model.add(MaxPooling2D(pool_size=(2, 2)))\n",
        "model.add(Dropout(0.25))\n",
        "\n",
        "model.add(Conv2D(64, (3, 3), padding='same'))\n",
        "model.add(Activation('relu'))\n",
        "model.add(Conv2D(64, (3, 3)))\n",
        "model.add(Activation('relu'))\n",
        "model.add(MaxPooling2D(pool_size=(2, 2)))\n",
        "model.add(Dropout(0.25))\n",
        "\n",
        "model.add(Flatten())\n",
        "model.add(Dense(512))\n",
        "model.add(Activation('relu'))\n",
        "model.add(Dropout(0.5))\n",
        "model.add(Dense(num_classes))\n",
        "model.add(Activation('softmax'))"
      ],
      "execution_count": 0,
      "outputs": []
    },
    {
      "metadata": {
        "id": "Q0pdPppbIg8R",
        "colab_type": "code",
        "colab": {}
      },
      "cell_type": "code",
      "source": [
        "# initiate RMSprop optimizer\n",
        "opt = keras.optimizers.rmsprop(lr=0.0001, decay=1e-6)\n",
        "\n",
        "# Let's train the model using RMSprop\n",
        "model.compile(loss='categorical_crossentropy',\n",
        "              optimizer=opt,\n",
        "              metrics=['accuracy'])\n",
        "\n",
        "x_train = x_train.astype('float32')\n",
        "x_test = x_test.astype('float32')\n",
        "x_train /= 255\n",
        "x_test /= 255"
      ],
      "execution_count": 0,
      "outputs": []
    },
    {
      "metadata": {
        "id": "yWIsGfMKIqYt",
        "colab_type": "code",
        "colab": {
          "base_uri": "https://localhost:8080/",
          "height": 3451
        },
        "outputId": "7f011481-ec05-4d57-92f3-2bfdfceb310e"
      },
      "cell_type": "code",
      "source": [
        "model.fit(x_train, y_train,\n",
        "          batch_size=batch_size,\n",
        "          epochs=epochs,\n",
        "          validation_data=(x_test, y_test),\n",
        "          shuffle=True)"
      ],
      "execution_count": 7,
      "outputs": [
        {
          "output_type": "stream",
          "text": [
            "Train on 50000 samples, validate on 10000 samples\n",
            "Epoch 1/100\n",
            "50000/50000 [==============================] - 23s 462us/step - loss: 1.8086 - acc: 0.3366 - val_loss: 1.5174 - val_acc: 0.4502\n",
            "Epoch 2/100\n",
            "50000/50000 [==============================] - 19s 380us/step - loss: 1.4870 - acc: 0.4582 - val_loss: 1.4001 - val_acc: 0.5012\n",
            "Epoch 3/100\n",
            "50000/50000 [==============================] - 19s 379us/step - loss: 1.3579 - acc: 0.5143 - val_loss: 1.2823 - val_acc: 0.5485\n",
            "Epoch 4/100\n",
            "50000/50000 [==============================] - 19s 379us/step - loss: 1.2634 - acc: 0.5504 - val_loss: 1.1751 - val_acc: 0.5795\n",
            "Epoch 5/100\n",
            "50000/50000 [==============================] - 19s 380us/step - loss: 1.1843 - acc: 0.5805 - val_loss: 1.0796 - val_acc: 0.6245\n",
            "Epoch 6/100\n",
            "50000/50000 [==============================] - 19s 377us/step - loss: 1.1207 - acc: 0.6052 - val_loss: 1.0183 - val_acc: 0.6452\n",
            "Epoch 7/100\n",
            "50000/50000 [==============================] - 19s 378us/step - loss: 1.0644 - acc: 0.6282 - val_loss: 0.9949 - val_acc: 0.6510\n",
            "Epoch 8/100\n",
            "50000/50000 [==============================] - 19s 377us/step - loss: 1.0193 - acc: 0.6424 - val_loss: 0.9683 - val_acc: 0.6613\n",
            "Epoch 9/100\n",
            "50000/50000 [==============================] - 20s 399us/step - loss: 0.9803 - acc: 0.6587 - val_loss: 0.9260 - val_acc: 0.6777\n",
            "Epoch 10/100\n",
            "50000/50000 [==============================] - 19s 386us/step - loss: 0.9503 - acc: 0.6699 - val_loss: 0.8737 - val_acc: 0.6965\n",
            "Epoch 11/100\n",
            "50000/50000 [==============================] - 20s 392us/step - loss: 0.9199 - acc: 0.6793 - val_loss: 0.8831 - val_acc: 0.6898\n",
            "Epoch 12/100\n",
            "50000/50000 [==============================] - 20s 396us/step - loss: 0.8902 - acc: 0.6889 - val_loss: 0.9312 - val_acc: 0.6725\n",
            "Epoch 13/100\n",
            "50000/50000 [==============================] - 20s 401us/step - loss: 0.8696 - acc: 0.6980 - val_loss: 0.8275 - val_acc: 0.7111\n",
            "Epoch 14/100\n",
            "50000/50000 [==============================] - 20s 401us/step - loss: 0.8462 - acc: 0.7063 - val_loss: 0.8108 - val_acc: 0.7168\n",
            "Epoch 15/100\n",
            "50000/50000 [==============================] - 20s 405us/step - loss: 0.8289 - acc: 0.7135 - val_loss: 0.8222 - val_acc: 0.7147\n",
            "Epoch 16/100\n",
            "50000/50000 [==============================] - 19s 379us/step - loss: 0.8124 - acc: 0.7201 - val_loss: 0.7992 - val_acc: 0.7239\n",
            "Epoch 17/100\n",
            "50000/50000 [==============================] - 19s 379us/step - loss: 0.7998 - acc: 0.7242 - val_loss: 0.7848 - val_acc: 0.7296\n",
            "Epoch 18/100\n",
            "50000/50000 [==============================] - 19s 379us/step - loss: 0.7842 - acc: 0.7278 - val_loss: 0.7573 - val_acc: 0.7400\n",
            "Epoch 19/100\n",
            "50000/50000 [==============================] - 19s 379us/step - loss: 0.7760 - acc: 0.7321 - val_loss: 0.7568 - val_acc: 0.7396\n",
            "Epoch 20/100\n",
            "50000/50000 [==============================] - 19s 378us/step - loss: 0.7681 - acc: 0.7360 - val_loss: 0.7361 - val_acc: 0.7530\n",
            "Epoch 21/100\n",
            "50000/50000 [==============================] - 19s 380us/step - loss: 0.7573 - acc: 0.7410 - val_loss: 0.7354 - val_acc: 0.7548\n",
            "Epoch 22/100\n",
            "50000/50000 [==============================] - 19s 380us/step - loss: 0.7545 - acc: 0.7430 - val_loss: 0.7362 - val_acc: 0.7562\n",
            "Epoch 23/100\n",
            "50000/50000 [==============================] - 24s 473us/step - loss: 0.7457 - acc: 0.7431 - val_loss: 0.7174 - val_acc: 0.7625\n",
            "Epoch 24/100\n",
            "50000/50000 [==============================] - 37s 730us/step - loss: 0.7361 - acc: 0.7491 - val_loss: 0.7751 - val_acc: 0.7405\n",
            "Epoch 25/100\n",
            "50000/50000 [==============================] - 22s 439us/step - loss: 0.7262 - acc: 0.7518 - val_loss: 0.7078 - val_acc: 0.7629\n",
            "Epoch 26/100\n",
            "50000/50000 [==============================] - 19s 379us/step - loss: 0.7235 - acc: 0.7540 - val_loss: 0.7210 - val_acc: 0.7579\n",
            "Epoch 27/100\n",
            "50000/50000 [==============================] - 19s 380us/step - loss: 0.7226 - acc: 0.7553 - val_loss: 0.7230 - val_acc: 0.7534\n",
            "Epoch 28/100\n",
            "50000/50000 [==============================] - 19s 380us/step - loss: 0.7180 - acc: 0.7574 - val_loss: 0.7372 - val_acc: 0.7554\n",
            "Epoch 29/100\n",
            "50000/50000 [==============================] - 19s 381us/step - loss: 0.7083 - acc: 0.7575 - val_loss: 0.6943 - val_acc: 0.7712\n",
            "Epoch 30/100\n",
            "50000/50000 [==============================] - 19s 382us/step - loss: 0.7118 - acc: 0.7580 - val_loss: 0.6796 - val_acc: 0.7757\n",
            "Epoch 31/100\n",
            "50000/50000 [==============================] - 19s 382us/step - loss: 0.6992 - acc: 0.7637 - val_loss: 0.6890 - val_acc: 0.7735\n",
            "Epoch 32/100\n",
            "50000/50000 [==============================] - 19s 382us/step - loss: 0.6984 - acc: 0.7671 - val_loss: 0.6999 - val_acc: 0.7767\n",
            "Epoch 33/100\n",
            "50000/50000 [==============================] - 19s 380us/step - loss: 0.6910 - acc: 0.7658 - val_loss: 0.6820 - val_acc: 0.7748\n",
            "Epoch 34/100\n",
            "50000/50000 [==============================] - 19s 380us/step - loss: 0.6879 - acc: 0.7683 - val_loss: 0.7067 - val_acc: 0.7743\n",
            "Epoch 35/100\n",
            "50000/50000 [==============================] - 19s 381us/step - loss: 0.6867 - acc: 0.7676 - val_loss: 0.7275 - val_acc: 0.7665\n",
            "Epoch 36/100\n",
            "50000/50000 [==============================] - 19s 381us/step - loss: 0.6856 - acc: 0.7680 - val_loss: 0.6729 - val_acc: 0.7722\n",
            "Epoch 37/100\n",
            "50000/50000 [==============================] - 19s 380us/step - loss: 0.6815 - acc: 0.7699 - val_loss: 0.6636 - val_acc: 0.7783\n",
            "Epoch 38/100\n",
            "50000/50000 [==============================] - 19s 380us/step - loss: 0.6778 - acc: 0.7698 - val_loss: 0.6916 - val_acc: 0.7816\n",
            "Epoch 39/100\n",
            "50000/50000 [==============================] - 19s 381us/step - loss: 0.6815 - acc: 0.7704 - val_loss: 0.6732 - val_acc: 0.7782\n",
            "Epoch 40/100\n",
            "50000/50000 [==============================] - 19s 381us/step - loss: 0.6793 - acc: 0.7699 - val_loss: 0.6490 - val_acc: 0.7813\n",
            "Epoch 41/100\n",
            "50000/50000 [==============================] - 19s 381us/step - loss: 0.6694 - acc: 0.7743 - val_loss: 0.6800 - val_acc: 0.7759\n",
            "Epoch 42/100\n",
            "50000/50000 [==============================] - 19s 381us/step - loss: 0.6717 - acc: 0.7748 - val_loss: 0.7144 - val_acc: 0.7713\n",
            "Epoch 43/100\n",
            "50000/50000 [==============================] - 19s 381us/step - loss: 0.6658 - acc: 0.7761 - val_loss: 0.6762 - val_acc: 0.7807\n",
            "Epoch 44/100\n",
            "50000/50000 [==============================] - 19s 381us/step - loss: 0.6694 - acc: 0.7760 - val_loss: 0.7190 - val_acc: 0.7737\n",
            "Epoch 45/100\n",
            "50000/50000 [==============================] - 19s 381us/step - loss: 0.6684 - acc: 0.7758 - val_loss: 0.6608 - val_acc: 0.7813\n",
            "Epoch 46/100\n",
            "50000/50000 [==============================] - 19s 381us/step - loss: 0.6643 - acc: 0.7774 - val_loss: 0.6865 - val_acc: 0.7765\n",
            "Epoch 47/100\n",
            "50000/50000 [==============================] - 19s 379us/step - loss: 0.6626 - acc: 0.7783 - val_loss: 0.7353 - val_acc: 0.7769\n",
            "Epoch 48/100\n",
            "50000/50000 [==============================] - 19s 381us/step - loss: 0.6591 - acc: 0.7790 - val_loss: 0.7027 - val_acc: 0.7755\n",
            "Epoch 49/100\n",
            "50000/50000 [==============================] - 19s 380us/step - loss: 0.6556 - acc: 0.7804 - val_loss: 0.7107 - val_acc: 0.7642\n",
            "Epoch 50/100\n",
            "50000/50000 [==============================] - 19s 381us/step - loss: 0.6553 - acc: 0.7798 - val_loss: 0.7074 - val_acc: 0.7866\n",
            "Epoch 51/100\n",
            "50000/50000 [==============================] - 19s 381us/step - loss: 0.6590 - acc: 0.7793 - val_loss: 0.6659 - val_acc: 0.7788\n",
            "Epoch 52/100\n",
            "50000/50000 [==============================] - 19s 381us/step - loss: 0.6548 - acc: 0.7811 - val_loss: 0.7652 - val_acc: 0.7689\n",
            "Epoch 53/100\n",
            "50000/50000 [==============================] - 19s 381us/step - loss: 0.6517 - acc: 0.7826 - val_loss: 0.7095 - val_acc: 0.7816\n",
            "Epoch 54/100\n",
            "50000/50000 [==============================] - 19s 381us/step - loss: 0.6539 - acc: 0.7807 - val_loss: 0.6906 - val_acc: 0.7793\n",
            "Epoch 55/100\n",
            "50000/50000 [==============================] - 19s 380us/step - loss: 0.6472 - acc: 0.7862 - val_loss: 0.6747 - val_acc: 0.7811\n",
            "Epoch 56/100\n",
            "50000/50000 [==============================] - 19s 380us/step - loss: 0.6492 - acc: 0.7850 - val_loss: 0.7266 - val_acc: 0.7635\n",
            "Epoch 57/100\n",
            "50000/50000 [==============================] - 19s 381us/step - loss: 0.6447 - acc: 0.7853 - val_loss: 0.6452 - val_acc: 0.7892\n",
            "Epoch 58/100\n",
            "50000/50000 [==============================] - 19s 380us/step - loss: 0.6427 - acc: 0.7851 - val_loss: 0.7400 - val_acc: 0.7750\n",
            "Epoch 59/100\n",
            "50000/50000 [==============================] - 19s 379us/step - loss: 0.6461 - acc: 0.7841 - val_loss: 0.7012 - val_acc: 0.7828\n",
            "Epoch 60/100\n",
            "50000/50000 [==============================] - 19s 379us/step - loss: 0.6448 - acc: 0.7858 - val_loss: 0.6871 - val_acc: 0.7730\n",
            "Epoch 61/100\n",
            "50000/50000 [==============================] - 19s 380us/step - loss: 0.6418 - acc: 0.7844 - val_loss: 0.6711 - val_acc: 0.7743\n",
            "Epoch 62/100\n",
            "50000/50000 [==============================] - 19s 380us/step - loss: 0.6415 - acc: 0.7865 - val_loss: 0.7262 - val_acc: 0.7650\n",
            "Epoch 63/100\n",
            "50000/50000 [==============================] - 19s 381us/step - loss: 0.6356 - acc: 0.7873 - val_loss: 0.7359 - val_acc: 0.7714\n",
            "Epoch 64/100\n",
            "50000/50000 [==============================] - 19s 381us/step - loss: 0.6394 - acc: 0.7881 - val_loss: 0.6576 - val_acc: 0.7846\n",
            "Epoch 65/100\n",
            "50000/50000 [==============================] - 19s 381us/step - loss: 0.6385 - acc: 0.7889 - val_loss: 0.7053 - val_acc: 0.7766\n",
            "Epoch 66/100\n",
            "50000/50000 [==============================] - 19s 380us/step - loss: 0.6403 - acc: 0.7865 - val_loss: 0.6579 - val_acc: 0.7811\n",
            "Epoch 67/100\n",
            "50000/50000 [==============================] - 19s 381us/step - loss: 0.6398 - acc: 0.7859 - val_loss: 0.6852 - val_acc: 0.7781\n",
            "Epoch 68/100\n",
            "50000/50000 [==============================] - 19s 381us/step - loss: 0.6389 - acc: 0.7850 - val_loss: 0.6969 - val_acc: 0.7685\n",
            "Epoch 69/100\n",
            "50000/50000 [==============================] - 19s 381us/step - loss: 0.6387 - acc: 0.7866 - val_loss: 0.6594 - val_acc: 0.7823\n",
            "Epoch 70/100\n",
            "50000/50000 [==============================] - 19s 381us/step - loss: 0.6413 - acc: 0.7886 - val_loss: 0.7036 - val_acc: 0.7730\n",
            "Epoch 71/100\n",
            "50000/50000 [==============================] - 19s 381us/step - loss: 0.6318 - acc: 0.7882 - val_loss: 0.6780 - val_acc: 0.7847\n",
            "Epoch 72/100\n",
            "50000/50000 [==============================] - 19s 380us/step - loss: 0.6362 - acc: 0.7875 - val_loss: 0.6729 - val_acc: 0.7811\n",
            "Epoch 73/100\n",
            "50000/50000 [==============================] - 19s 381us/step - loss: 0.6318 - acc: 0.7866 - val_loss: 0.7175 - val_acc: 0.7786\n",
            "Epoch 74/100\n",
            "50000/50000 [==============================] - 19s 381us/step - loss: 0.6314 - acc: 0.7897 - val_loss: 0.6681 - val_acc: 0.7797\n",
            "Epoch 75/100\n",
            "50000/50000 [==============================] - 19s 380us/step - loss: 0.6325 - acc: 0.7890 - val_loss: 0.6865 - val_acc: 0.7851\n",
            "Epoch 76/100\n",
            "50000/50000 [==============================] - 19s 381us/step - loss: 0.6308 - acc: 0.7913 - val_loss: 0.7177 - val_acc: 0.7737\n",
            "Epoch 77/100\n",
            "50000/50000 [==============================] - 19s 381us/step - loss: 0.6347 - acc: 0.7908 - val_loss: 0.6838 - val_acc: 0.7742\n",
            "Epoch 78/100\n",
            "50000/50000 [==============================] - 19s 381us/step - loss: 0.6279 - acc: 0.7888 - val_loss: 0.6856 - val_acc: 0.7857\n",
            "Epoch 79/100\n",
            "50000/50000 [==============================] - 19s 381us/step - loss: 0.6289 - acc: 0.7913 - val_loss: 0.7300 - val_acc: 0.7727\n",
            "Epoch 80/100\n",
            "50000/50000 [==============================] - 19s 381us/step - loss: 0.6323 - acc: 0.7883 - val_loss: 0.7170 - val_acc: 0.7776\n",
            "Epoch 81/100\n",
            "50000/50000 [==============================] - 19s 380us/step - loss: 0.6344 - acc: 0.7894 - val_loss: 0.6715 - val_acc: 0.7793\n",
            "Epoch 82/100\n",
            "50000/50000 [==============================] - 19s 381us/step - loss: 0.6279 - acc: 0.7912 - val_loss: 0.6681 - val_acc: 0.7778\n",
            "Epoch 83/100\n",
            "50000/50000 [==============================] - 19s 380us/step - loss: 0.6273 - acc: 0.7925 - val_loss: 0.6982 - val_acc: 0.7720\n",
            "Epoch 84/100\n",
            "50000/50000 [==============================] - 19s 380us/step - loss: 0.6304 - acc: 0.7927 - val_loss: 0.6650 - val_acc: 0.7789\n",
            "Epoch 85/100\n",
            "50000/50000 [==============================] - 19s 381us/step - loss: 0.6292 - acc: 0.7896 - val_loss: 0.7027 - val_acc: 0.7750\n",
            "Epoch 86/100\n",
            "50000/50000 [==============================] - 19s 382us/step - loss: 0.6285 - acc: 0.7925 - val_loss: 0.7181 - val_acc: 0.7643\n",
            "Epoch 87/100\n",
            "50000/50000 [==============================] - 19s 380us/step - loss: 0.6250 - acc: 0.7931 - val_loss: 0.7847 - val_acc: 0.7449\n",
            "Epoch 88/100\n",
            "50000/50000 [==============================] - 19s 381us/step - loss: 0.6290 - acc: 0.7906 - val_loss: 0.6889 - val_acc: 0.7783\n",
            "Epoch 89/100\n",
            "50000/50000 [==============================] - 19s 381us/step - loss: 0.6253 - acc: 0.7935 - val_loss: 0.8466 - val_acc: 0.7229\n",
            "Epoch 90/100\n",
            "50000/50000 [==============================] - 19s 381us/step - loss: 0.6289 - acc: 0.7916 - val_loss: 0.6473 - val_acc: 0.7865\n",
            "Epoch 91/100\n",
            "50000/50000 [==============================] - 19s 381us/step - loss: 0.6267 - acc: 0.7915 - val_loss: 0.6463 - val_acc: 0.7873\n",
            "Epoch 92/100\n",
            "50000/50000 [==============================] - 19s 381us/step - loss: 0.6264 - acc: 0.7919 - val_loss: 0.7040 - val_acc: 0.7795\n",
            "Epoch 93/100\n",
            "50000/50000 [==============================] - 19s 381us/step - loss: 0.6278 - acc: 0.7931 - val_loss: 0.6531 - val_acc: 0.7901\n",
            "Epoch 94/100\n",
            "50000/50000 [==============================] - 19s 382us/step - loss: 0.6267 - acc: 0.7933 - val_loss: 0.6978 - val_acc: 0.7716\n",
            "Epoch 95/100\n",
            "50000/50000 [==============================] - 19s 382us/step - loss: 0.6257 - acc: 0.7949 - val_loss: 0.6486 - val_acc: 0.7864\n",
            "Epoch 96/100\n",
            "50000/50000 [==============================] - 19s 381us/step - loss: 0.6258 - acc: 0.7921 - val_loss: 0.8381 - val_acc: 0.7468\n",
            "Epoch 97/100\n",
            "50000/50000 [==============================] - 19s 381us/step - loss: 0.6276 - acc: 0.7931 - val_loss: 0.6860 - val_acc: 0.7722\n",
            "Epoch 98/100\n",
            "50000/50000 [==============================] - 19s 382us/step - loss: 0.6294 - acc: 0.7919 - val_loss: 0.7220 - val_acc: 0.7804\n",
            "Epoch 99/100\n",
            "50000/50000 [==============================] - 19s 381us/step - loss: 0.6324 - acc: 0.7921 - val_loss: 0.6432 - val_acc: 0.7866\n",
            "Epoch 100/100\n",
            "50000/50000 [==============================] - 19s 380us/step - loss: 0.6315 - acc: 0.7925 - val_loss: 0.8041 - val_acc: 0.7541\n"
          ],
          "name": "stdout"
        },
        {
          "output_type": "execute_result",
          "data": {
            "text/plain": [
              "<keras.callbacks.History at 0x7fd2e7098d68>"
            ]
          },
          "metadata": {
            "tags": []
          },
          "execution_count": 7
        }
      ]
    },
    {
      "metadata": {
        "id": "PaQJ9ql4IuWD",
        "colab_type": "code",
        "colab": {
          "base_uri": "https://localhost:8080/",
          "height": 68
        },
        "outputId": "891cf175-849d-4926-fb2a-0bdb34554fb8"
      },
      "cell_type": "code",
      "source": [
        "# Score trained model.\n",
        "scores = model.evaluate(x_test, y_test, verbose=1)\n",
        "print('Test loss:', scores[0])\n",
        "print('Test accuracy:', scores[1])"
      ],
      "execution_count": 8,
      "outputs": [
        {
          "output_type": "stream",
          "text": [
            "10000/10000 [==============================] - 2s 233us/step\n",
            "Test loss: 0.804066711139679\n",
            "Test accuracy: 0.7541\n"
          ],
          "name": "stdout"
        }
      ]
    }
  ]
}