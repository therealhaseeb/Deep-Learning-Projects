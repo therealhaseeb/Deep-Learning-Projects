{
  "nbformat": 4,
  "nbformat_minor": 0,
  "metadata": {
    "colab": {
      "name": "Rocks Vs Mines.ipynb",
      "version": "0.3.2",
      "provenance": [],
      "collapsed_sections": []
    },
    "kernelspec": {
      "display_name": "Python 3",
      "language": "python",
      "name": "python3"
    },
    "accelerator": "GPU"
  },
  "cells": [
    {
      "metadata": {
        "id": "Z_d-l4-0Rfgb",
        "colab_type": "code",
        "colab": {}
      },
      "cell_type": "code",
      "source": [
        "import numpy\n",
        "import pandas\n",
        "from keras.models import Sequential\n",
        "from keras.layers import Dense\n",
        "from keras.wrappers.scikit_learn import KerasClassifier\n",
        "from sklearn.model_selection import cross_val_score\n",
        "from sklearn.preprocessing import LabelEncoder\n",
        "from sklearn.model_selection import StratifiedKFold\n",
        "from sklearn.preprocessing import StandardScaler\n",
        "from sklearn.pipeline import Pipeline\n",
        "from sklearn.model_selection import KFold"
      ],
      "execution_count": 0,
      "outputs": []
    },
    {
      "metadata": {
        "id": "y_4H2bR0RjX0",
        "colab_type": "code",
        "colab": {}
      },
      "cell_type": "code",
      "source": [
        "# from google.colab import files\n",
        "\n",
        "# uploaded = files.upload()"
      ],
      "execution_count": 0,
      "outputs": []
    },
    {
      "metadata": {
        "id": "DCQr9N4RRfhG",
        "colab_type": "code",
        "colab": {}
      },
      "cell_type": "code",
      "source": [
        "# fix random seed for reproducibility\n",
        "seed = 7\n",
        "numpy.random.seed(seed)"
      ],
      "execution_count": 0,
      "outputs": []
    },
    {
      "metadata": {
        "id": "2MaqKTcBRfhc",
        "colab_type": "code",
        "colab": {}
      },
      "cell_type": "code",
      "source": [
        "# load dataset\n",
        "dataframe = pandas.read_csv(\"sonar.csv\", header=None)\n",
        "dataset = dataframe.values\n",
        "\n",
        "# split into input (X) and output (Y) variables\n",
        "X = dataset[:,0:60].astype(float)\n",
        "Y = dataset[:,60]"
      ],
      "execution_count": 0,
      "outputs": []
    },
    {
      "metadata": {
        "id": "5Ybw3RcbRfh8",
        "colab_type": "code",
        "colab": {}
      },
      "cell_type": "code",
      "source": [
        "str_to_float_var = LabelEncoder()\n",
        "str_to_float_var.fit(Y)\n",
        "encoded_Y = str_to_float_var.transform(Y)"
      ],
      "execution_count": 0,
      "outputs": []
    },
    {
      "metadata": {
        "id": "Zyh8czaqRfia",
        "colab_type": "code",
        "colab": {}
      },
      "cell_type": "code",
      "source": [
        "# create model, write code below\n",
        "def create_baseline():\n",
        "    network = Sequential()\n",
        "    network.add(Dense(60, activation='relu', input_dim=60))\n",
        "    network.add(Dense(1, activation='sigmoid'))\n",
        "   \n",
        "    # Compile model, write code below\n",
        "    network.compile(optimizer='Adam',\n",
        "                    loss='binary_crossentropy',\n",
        "                    metrics=['accuracy'])\n",
        "    return network"
      ],
      "execution_count": 0,
      "outputs": []
    },
    {
      "metadata": {
        "id": "s8JwPgsqRfit",
        "colab_type": "code",
        "colab": {
          "base_uri": "https://localhost:8080/",
          "height": 34
        },
        "outputId": "ed7b8862-04aa-4b62-bc34-b6c01be5b836"
      },
      "cell_type": "code",
      "source": [
        "# evaluate model with standardized dataset\n",
        "estimator = KerasClassifier(build_fn=create_baseline, epochs=100, batch_size=5, verbose=0)\n",
        "\n",
        "kfold = StratifiedKFold(n_splits=2, shuffle=True, random_state=seed)\n",
        "\n",
        "results = cross_val_score(estimator, X, encoded_Y, cv=kfold)\n",
        "print(\"Results: %.2f%% (%.2f%%)\" % (results.mean()*100, results.std()*100))"
      ],
      "execution_count": 30,
      "outputs": [
        {
          "output_type": "stream",
          "text": [
            "Results: 79.82% (0.77%)\n"
          ],
          "name": "stdout"
        }
      ]
    },
    {
      "metadata": {
        "id": "Jarr8iMgRfjR",
        "colab_type": "code",
        "colab": {
          "base_uri": "https://localhost:8080/",
          "height": 34
        },
        "outputId": "46bc0d4c-ec59-49f7-92f2-b273da81586b"
      },
      "cell_type": "code",
      "source": [
        "# evaluate baseline model with standardized dataset\n",
        "numpy.random.seed(seed)\n",
        "\n",
        "estimators = []\n",
        "estimators.append(('standardize', StandardScaler()))\n",
        "estimators.append(('mlp', KerasClassifier(build_fn=create_baseline, epochs=100, batch_size=5, verbose=0)))\n",
        "\n",
        "pipeline = Pipeline(estimators)\n",
        "\n",
        "kfold = StratifiedKFold(n_splits=2, shuffle=True, random_state=seed)\n",
        "\n",
        "results = cross_val_score(pipeline, X, encoded_Y, cv=kfold)\n",
        "print(\"Standardized: %.2f%% (%.2f%%)\" % (results.mean()*100, results.std()*100))"
      ],
      "execution_count": 32,
      "outputs": [
        {
          "output_type": "stream",
          "text": [
            "Standardized: 84.60% (1.11%)\n"
          ],
          "name": "stdout"
        }
      ]
    },
    {
      "metadata": {
        "id": "Vj4p782sRfj2",
        "colab_type": "code",
        "colab": {
          "base_uri": "https://localhost:8080/",
          "height": 34
        },
        "outputId": "9240dab7-7d95-43c3-873f-b7bd6c10bf61"
      },
      "cell_type": "code",
      "source": [
        "# smaller model\n",
        "def create_smaller():\n",
        "    # create model, write code below\n",
        "    network = Sequential()\n",
        "    network.add(Dense(30, activation='relu', input_dim=60))\n",
        "    network.add(Dense(1, kernel_initializer='normal', activation='sigmoid'))\n",
        "   \n",
        "    # Compile model, write code below\n",
        "    network.compile(optimizer='Adam',\n",
        "                loss='binary_crossentropy',\n",
        "                metrics=['accuracy'])\n",
        "    return network    \n",
        "    \n",
        "estimators = []\n",
        "estimators.append(('standardize', StandardScaler()))\n",
        "estimators.append(('mlp', KerasClassifier(build_fn=create_smaller, epochs=100, batch_size=5, verbose=0)))\n",
        "\n",
        "pipeline = Pipeline(estimators)\n",
        "\n",
        "kfold = StratifiedKFold(n_splits=2, shuffle=True, random_state=seed)\n",
        "\n",
        "results = cross_val_score(pipeline, X, encoded_Y, cv=kfold)\n",
        "print(\"Smaller: %.2f%% (%.2f%%)\" % (results.mean()*100, results.std()*100))"
      ],
      "execution_count": 33,
      "outputs": [
        {
          "output_type": "stream",
          "text": [
            "Smaller: 84.60% (1.11%)\n"
          ],
          "name": "stdout"
        }
      ]
    },
    {
      "metadata": {
        "id": "vurYagiORfkS",
        "colab_type": "code",
        "colab": {
          "base_uri": "https://localhost:8080/",
          "height": 34
        },
        "outputId": "46812ae8-61be-488a-d0b3-99dff1b5a4e9"
      },
      "cell_type": "code",
      "source": [
        "# larger model\n",
        "def create_larger():\n",
        "    # create model, write code below\n",
        "    network = Sequential()\n",
        "    network.add(Dense(60, activation='relu', input_dim=60))\n",
        "    network.add(Dense(30, activation='sigmoid'))\n",
        "    network.add(Dense(1, activation='sigmoid'))\n",
        "   \n",
        "    # Compile model, write code below\n",
        "    network.compile(optimizer='Adam',\n",
        "                loss='binary_crossentropy',\n",
        "                metrics=['accuracy'])\n",
        "    return network    \n",
        "\n",
        "estimators = []\n",
        "estimators.append(('standardize', StandardScaler()))\n",
        "estimators.append(('mlp', KerasClassifier(build_fn=create_larger, epochs=100, batch_size=5, verbose=0)))\n",
        "\n",
        "pipeline = Pipeline(estimators)\n",
        "\n",
        "kfold = StratifiedKFold(n_splits=2, shuffle=True, random_state=seed)\n",
        "\n",
        "results = cross_val_score(pipeline, X, encoded_Y, cv=kfold)\n",
        "print(\"Larger: %.2f%% (%.2f%%)\" % (results.mean()*100, results.std()*100))"
      ],
      "execution_count": 34,
      "outputs": [
        {
          "output_type": "stream",
          "text": [
            "Larger: 83.17% (0.64%)\n"
          ],
          "name": "stdout"
        }
      ]
    },
    {
      "metadata": {
        "id": "7YPuvSoMRfk3",
        "colab_type": "code",
        "colab": {
          "base_uri": "https://localhost:8080/",
          "height": 34
        },
        "outputId": "5d544549-e29f-4580-f2f8-248d8a3c81bd"
      },
      "cell_type": "code",
      "source": [
        "#This is perform on original model, not on smaller or larger models.\n",
        "network_return = create_baseline()\n",
        "network_return.fit(X, encoded_Y, epochs=50, batch_size=8, verbose=0)"
      ],
      "execution_count": 36,
      "outputs": [
        {
          "output_type": "execute_result",
          "data": {
            "text/plain": [
              "<keras.callbacks.History at 0x7f483d67bcf8>"
            ]
          },
          "metadata": {
            "tags": []
          },
          "execution_count": 36
        }
      ]
    },
    {
      "metadata": {
        "id": "_shbduUeRflb",
        "colab_type": "code",
        "colab": {}
      },
      "cell_type": "code",
      "source": [
        ""
      ],
      "execution_count": 0,
      "outputs": []
    }
  ]
}