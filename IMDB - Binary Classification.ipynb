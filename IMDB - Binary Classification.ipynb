{
  "nbformat": 4,
  "nbformat_minor": 0,
  "metadata": {
    "colab": {
      "name": "IMDB - Binary Classification.ipynb",
      "version": "0.3.2",
      "provenance": []
    },
    "kernelspec": {
      "display_name": "Python 3",
      "language": "python",
      "name": "python3"
    },
    "accelerator": "GPU"
  },
  "cells": [
    {
      "metadata": {
        "id": "yGRTUHqN_2Hb",
        "colab_type": "text"
      },
      "cell_type": "markdown",
      "source": [
        "# 1. Loading The IMDB Dataset"
      ]
    },
    {
      "metadata": {
        "id": "0JPxiHVE_2Hl",
        "colab_type": "code",
        "colab": {
          "base_uri": "https://localhost:8080/",
          "height": 34
        },
        "outputId": "0b4e1326-9ca6-4e61-fb5a-b886bad8b778"
      },
      "cell_type": "code",
      "source": [
        "from keras.datasets import imdb"
      ],
      "execution_count": 1,
      "outputs": [
        {
          "output_type": "stream",
          "text": [
            "Using TensorFlow backend.\n"
          ],
          "name": "stderr"
        }
      ]
    },
    {
      "metadata": {
        "id": "LwiydIoU_2IQ",
        "colab_type": "code",
        "colab": {
          "base_uri": "https://localhost:8080/",
          "height": 52
        },
        "outputId": "f3fb1489-f3c7-4777-f3aa-6b54e2f4c40e"
      },
      "cell_type": "code",
      "source": [
        "(train_data, train_labels), (test_data, test_labels) = imdb.load_data(\n",
        "num_words=10000)"
      ],
      "execution_count": 2,
      "outputs": [
        {
          "output_type": "stream",
          "text": [
            "Downloading data from https://s3.amazonaws.com/text-datasets/imdb.npz\n",
            "17465344/17464789 [==============================] - 5s 0us/step\n"
          ],
          "name": "stdout"
        }
      ]
    },
    {
      "metadata": {
        "id": "7m-xf2fl_2Ii",
        "colab_type": "text"
      },
      "cell_type": "markdown",
      "source": [
        "# 2. Encoding Data"
      ]
    },
    {
      "metadata": {
        "id": "J3kZU3Um_2Io",
        "colab_type": "text"
      },
      "cell_type": "markdown",
      "source": [
        "#### Vectorizing Comments"
      ]
    },
    {
      "metadata": {
        "id": "mmGi6qsm_2Iv",
        "colab_type": "code",
        "colab": {}
      },
      "cell_type": "code",
      "source": [
        "import numpy as np"
      ],
      "execution_count": 0,
      "outputs": []
    },
    {
      "metadata": {
        "id": "dmdiRfkG_2JE",
        "colab_type": "code",
        "colab": {}
      },
      "cell_type": "code",
      "source": [
        "def vectorize_sequences(sequences, dimension=10000):\n",
        "    results = np.zeros((len(sequences), dimension))\n",
        "    for i, sequence in enumerate(sequences):\n",
        "        results[i, sequence] = 1.\n",
        "    return results"
      ],
      "execution_count": 0,
      "outputs": []
    },
    {
      "metadata": {
        "id": "JK9CS0WS_2JS",
        "colab_type": "code",
        "colab": {}
      },
      "cell_type": "code",
      "source": [
        "x_train = vectorize_sequences(train_data)\n",
        "x_test = vectorize_sequences(test_data)"
      ],
      "execution_count": 0,
      "outputs": []
    },
    {
      "metadata": {
        "id": "UaNgMkWJ_2Jk",
        "colab_type": "text"
      },
      "cell_type": "markdown",
      "source": [
        "#### Vectorizing Labels"
      ]
    },
    {
      "metadata": {
        "id": "ivx8PxTi_2Jr",
        "colab_type": "code",
        "colab": {}
      },
      "cell_type": "code",
      "source": [
        "y_train = np.asarray(train_labels).astype('float32')\n",
        "y_test = np.asarray(test_labels).astype('float32')"
      ],
      "execution_count": 0,
      "outputs": []
    },
    {
      "metadata": {
        "id": "VIR4egtM_2J-",
        "colab_type": "text"
      },
      "cell_type": "markdown",
      "source": [
        "# 3. The Model Definition"
      ]
    },
    {
      "metadata": {
        "id": "Q-0BU6nF_2KD",
        "colab_type": "code",
        "colab": {}
      },
      "cell_type": "code",
      "source": [
        "from keras import models\n",
        "from keras import layers"
      ],
      "execution_count": 0,
      "outputs": []
    },
    {
      "metadata": {
        "id": "RjP11ZT7_2KT",
        "colab_type": "code",
        "colab": {}
      },
      "cell_type": "code",
      "source": [
        "model = models.Sequential()\n",
        "model.add(layers.Dense(16, activation='relu', input_shape=(10000,)))\n",
        "model.add(layers.Dense(16, activation='relu'))\n",
        "model.add(layers.Dense(1, activation='sigmoid'))"
      ],
      "execution_count": 0,
      "outputs": []
    },
    {
      "metadata": {
        "id": "JTTrnGDw_2Ko",
        "colab_type": "text"
      },
      "cell_type": "markdown",
      "source": [
        "# 4. Compiling The Model"
      ]
    },
    {
      "metadata": {
        "id": "xhlVTSpG_2Kr",
        "colab_type": "code",
        "colab": {}
      },
      "cell_type": "code",
      "source": [
        "model.compile(optimizer='rmsprop',\n",
        "              loss='binary_crossentropy',\n",
        "              metrics=['accuracy'])"
      ],
      "execution_count": 0,
      "outputs": []
    },
    {
      "metadata": {
        "id": "qLTenWRD_2K4",
        "colab_type": "text"
      },
      "cell_type": "markdown",
      "source": [
        "# 5. Training Your Model"
      ]
    },
    {
      "metadata": {
        "id": "AYDOVWnT_2K7",
        "colab_type": "code",
        "colab": {
          "base_uri": "https://localhost:8080/",
          "height": 173
        },
        "outputId": "03821b6c-fed5-4a11-8382-cbf07a437bf6"
      },
      "cell_type": "code",
      "source": [
        "model.fit(x_train, y_train, epochs=4, batch_size=512)"
      ],
      "execution_count": 10,
      "outputs": [
        {
          "output_type": "stream",
          "text": [
            "Epoch 1/4\n",
            "25000/25000 [==============================] - 2s 94us/step - loss: 0.4496 - acc: 0.8165\n",
            "Epoch 2/4\n",
            "25000/25000 [==============================] - 2s 63us/step - loss: 0.2552 - acc: 0.9094\n",
            "Epoch 3/4\n",
            "25000/25000 [==============================] - 2s 64us/step - loss: 0.1969 - acc: 0.9298\n",
            "Epoch 4/4\n",
            "25000/25000 [==============================] - 2s 64us/step - loss: 0.1669 - acc: 0.9409\n"
          ],
          "name": "stdout"
        },
        {
          "output_type": "execute_result",
          "data": {
            "text/plain": [
              "<keras.callbacks.History at 0x7fbc9258ed30>"
            ]
          },
          "metadata": {
            "tags": []
          },
          "execution_count": 10
        }
      ]
    },
    {
      "metadata": {
        "id": "waR6YWp3_2LH",
        "colab_type": "code",
        "colab": {
          "base_uri": "https://localhost:8080/",
          "height": 52
        },
        "outputId": "3a1b97e3-5ce3-4461-c090-936d76fb0307"
      },
      "cell_type": "code",
      "source": [
        "model.evaluate(x_test, y_test)"
      ],
      "execution_count": 17,
      "outputs": [
        {
          "output_type": "stream",
          "text": [
            "25000/25000 [==============================] - 3s 127us/step\n"
          ],
          "name": "stdout"
        },
        {
          "output_type": "execute_result",
          "data": {
            "text/plain": [
              "[0.2945874194431305, 0.8832]"
            ]
          },
          "metadata": {
            "tags": []
          },
          "execution_count": 17
        }
      ]
    },
    {
      "metadata": {
        "id": "l-j2MOKgAaOg",
        "colab_type": "code",
        "colab": {
          "base_uri": "https://localhost:8080/",
          "height": 139
        },
        "outputId": "0332ef20-4bcd-48aa-f32d-b9b23fa22eb0"
      },
      "cell_type": "code",
      "source": [
        "vectors_answers = model.predict(x_test)\n",
        "vectors_answers = np.where(vectors_answers > 0.5, 1, 0)\n",
        "print(vectors_answers)"
      ],
      "execution_count": 18,
      "outputs": [
        {
          "output_type": "stream",
          "text": [
            "[[0]\n",
            " [1]\n",
            " [1]\n",
            " ...\n",
            " [0]\n",
            " [0]\n",
            " [1]]\n"
          ],
          "name": "stdout"
        }
      ]
    }
  ]
}